{
  "nbformat": 4,
  "nbformat_minor": 0,
  "metadata": {
    "colab": {
      "name": "basic programs.ipynb",
      "provenance": [],
      "authorship_tag": "ABX9TyMg1UalgGN3zrprsqi+Gqdc",
      "include_colab_link": true
    },
    "kernelspec": {
      "name": "python3",
      "display_name": "Python 3"
    },
    "language_info": {
      "name": "python"
    }
  },
  "cells": [
    {
      "cell_type": "markdown",
      "metadata": {
        "id": "view-in-github",
        "colab_type": "text"
      },
      "source": [
        "<a href=\"https://colab.research.google.com/github/Naveen7217/Basic-ML/blob/main/basic_programs.ipynb\" target=\"_parent\"><img src=\"https://colab.research.google.com/assets/colab-badge.svg\" alt=\"Open In Colab\"/></a>"
      ]
    },
    {
      "cell_type": "markdown",
      "metadata": {
        "id": "M8BThHKAx9AE"
      },
      "source": [
        "some programs in python\n"
      ]
    },
    {
      "cell_type": "code",
      "metadata": {
        "colab": {
          "base_uri": "https://localhost:8080/"
        },
        "id": "-_wXF1yXvbzD",
        "outputId": "a7400b40-6d1e-4fb8-d16c-80a822e22cec"
      },
      "source": [
        "a=5\n",
        "b=6\n",
        "print(a+b)"
      ],
      "execution_count": 1,
      "outputs": [
        {
          "output_type": "stream",
          "text": [
            "11\n"
          ],
          "name": "stdout"
        }
      ]
    },
    {
      "cell_type": "code",
      "metadata": {
        "colab": {
          "base_uri": "https://localhost:8080/"
        },
        "id": "b8mWhVz0yKUN",
        "outputId": "715569d7-63c2-45f6-f217-126138cf65f7"
      },
      "source": [
        "st=\"vishnu\"\n",
        "print(st[::-1])"
      ],
      "execution_count": 2,
      "outputs": [
        {
          "output_type": "stream",
          "text": [
            "unhsiv\n"
          ],
          "name": "stdout"
        }
      ]
    },
    {
      "cell_type": "code",
      "metadata": {
        "colab": {
          "base_uri": "https://localhost:8080/"
        },
        "id": "-wTN6e44yVnR",
        "outputId": "517a7fe9-39a2-471a-b025-171c431e1f12"
      },
      "source": [
        "num=int(input())\n",
        "if (num%2==0):\n",
        "  print(\"even\")\n",
        "else:\n",
        "  print(\"odd\")"
      ],
      "execution_count": 3,
      "outputs": [
        {
          "output_type": "stream",
          "text": [
            "5\n",
            "odd\n"
          ],
          "name": "stdout"
        }
      ]
    }
  ]
}