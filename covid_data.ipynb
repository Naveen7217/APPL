{
  "nbformat": 4,
  "nbformat_minor": 0,
  "metadata": {
    "colab": {
      "name": "covid_data.ipynb",
      "provenance": [],
      "collapsed_sections": [],
      "authorship_tag": "ABX9TyPFhT5oXxkwmDOmEQjZyRz7",
      "include_colab_link": true
    },
    "kernelspec": {
      "name": "python3",
      "display_name": "Python 3"
    },
    "language_info": {
      "name": "python"
    }
  },
  "cells": [
    {
      "cell_type": "markdown",
      "metadata": {
        "id": "view-in-github",
        "colab_type": "text"
      },
      "source": [
        "<a href=\"https://colab.research.google.com/github/Naveen7217/Basic-ML/blob/main/covid_data.ipynb\" target=\"_parent\"><img src=\"https://colab.research.google.com/assets/colab-badge.svg\" alt=\"Open In Colab\"/></a>"
      ]
    },
    {
      "cell_type": "markdown",
      "metadata": {
        "id": "yNSPPrVkYNje"
      },
      "source": [
        "\n",
        "# **Explorative Data Analysis (EDA):**\n",
        "\n",
        "Explorative Data Analysis is a process where one learns about the data, forms insights and identifies important columns (features) that can be user to tell a story or later formulate a ML problem."
      ]
    },
    {
      "cell_type": "code",
      "metadata": {
        "id": "SFRVXOF2YF4_"
      },
      "source": [
        "import pandas as pd\n",
        "import matplotlib.pyplot as plt\n",
        "import numpy as np\n",
        "import seaborn as sns\n",
        "\n",
        "import warnings\n",
        "warnings.filterwarnings(\"ignore\")\n",
        "\n",
        "%matplotlib inline"
      ],
      "execution_count": 1,
      "outputs": []
    },
    {
      "cell_type": "markdown",
      "metadata": {
        "id": "EmDnUI4KYb81"
      },
      "source": [
        "The warnings library has been imported to supress the warnings using the command warnings.filterwarnings(\"ignore\")"
      ]
    },
    {
      "cell_type": "code",
      "metadata": {
        "id": "mtYV-j2RYcay"
      },
      "source": [
        "data=pd.read_csv('/content/Latest_Covid-19_India_Status[1].csv')"
      ],
      "execution_count": 3,
      "outputs": []
    },
    {
      "cell_type": "markdown",
      "metadata": {
        "id": "1SJdl4VEYb_z"
      },
      "source": [
        "The data has been imported as a dataset into variable data using the method .read_csv() method of Pandas library."
      ]
    },
    {
      "cell_type": "markdown",
      "metadata": {
        "id": "kxceVRDeYcDE"
      },
      "source": [
        "The size of data can be known using shape as below."
      ]
    },
    {
      "cell_type": "code",
      "metadata": {
        "colab": {
          "base_uri": "https://localhost:8080/"
        },
        "id": "9rT7rqlpYcef",
        "outputId": "f3b635b6-ca29-4224-c656-d257cdd03e8a"
      },
      "source": [
        "data.shape"
      ],
      "execution_count": 5,
      "outputs": [
        {
          "output_type": "execute_result",
          "data": {
            "text/plain": [
              "(36, 8)"
            ]
          },
          "metadata": {},
          "execution_count": 5
        }
      ]
    },
    {
      "cell_type": "markdown",
      "metadata": {
        "id": "kVPl5so4YcFj"
      },
      "source": [
        "It is observed that this dataset contains 36 observations with 8 features."
      ]
    },
    {
      "cell_type": "markdown",
      "metadata": {
        "id": "uIeNZRBvZewI"
      },
      "source": [
        "The .head() and .tail() methods can be used to show a dataframe consisting of first five rows and last five rows respectively."
      ]
    },
    {
      "cell_type": "code",
      "metadata": {
        "colab": {
          "base_uri": "https://localhost:8080/",
          "height": 203
        },
        "id": "SCPm7gjVYcq_",
        "outputId": "f819d9ae-3084-459f-f405-96636375a984"
      },
      "source": [
        "data.head()"
      ],
      "execution_count": 6,
      "outputs": [
        {
          "output_type": "execute_result",
          "data": {
            "text/html": [
              "<div>\n",
              "<style scoped>\n",
              "    .dataframe tbody tr th:only-of-type {\n",
              "        vertical-align: middle;\n",
              "    }\n",
              "\n",
              "    .dataframe tbody tr th {\n",
              "        vertical-align: top;\n",
              "    }\n",
              "\n",
              "    .dataframe thead th {\n",
              "        text-align: right;\n",
              "    }\n",
              "</style>\n",
              "<table border=\"1\" class=\"dataframe\">\n",
              "  <thead>\n",
              "    <tr style=\"text-align: right;\">\n",
              "      <th></th>\n",
              "      <th>State/UTs</th>\n",
              "      <th>Total Cases</th>\n",
              "      <th>Active</th>\n",
              "      <th>Discharged</th>\n",
              "      <th>Deaths</th>\n",
              "      <th>Active Ratio (%)</th>\n",
              "      <th>Discharge Ratio (%)</th>\n",
              "      <th>Death Ratio (%)</th>\n",
              "    </tr>\n",
              "  </thead>\n",
              "  <tbody>\n",
              "    <tr>\n",
              "      <th>0</th>\n",
              "      <td>Andaman and Nicobar</td>\n",
              "      <td>7572</td>\n",
              "      <td>6</td>\n",
              "      <td>7437</td>\n",
              "      <td>129</td>\n",
              "      <td>0.08</td>\n",
              "      <td>98.22</td>\n",
              "      <td>1.70</td>\n",
              "    </tr>\n",
              "    <tr>\n",
              "      <th>1</th>\n",
              "      <td>Andhra Pradesh</td>\n",
              "      <td>2022064</td>\n",
              "      <td>14550</td>\n",
              "      <td>1993589</td>\n",
              "      <td>13925</td>\n",
              "      <td>0.72</td>\n",
              "      <td>98.59</td>\n",
              "      <td>0.69</td>\n",
              "    </tr>\n",
              "    <tr>\n",
              "      <th>2</th>\n",
              "      <td>Arunachal Pradesh</td>\n",
              "      <td>53408</td>\n",
              "      <td>634</td>\n",
              "      <td>52507</td>\n",
              "      <td>267</td>\n",
              "      <td>1.19</td>\n",
              "      <td>98.31</td>\n",
              "      <td>0.50</td>\n",
              "    </tr>\n",
              "    <tr>\n",
              "      <th>3</th>\n",
              "      <td>Assam</td>\n",
              "      <td>592616</td>\n",
              "      <td>6415</td>\n",
              "      <td>580491</td>\n",
              "      <td>5710</td>\n",
              "      <td>1.08</td>\n",
              "      <td>97.95</td>\n",
              "      <td>0.96</td>\n",
              "    </tr>\n",
              "    <tr>\n",
              "      <th>4</th>\n",
              "      <td>Bihar</td>\n",
              "      <td>725759</td>\n",
              "      <td>55</td>\n",
              "      <td>716048</td>\n",
              "      <td>9656</td>\n",
              "      <td>0.01</td>\n",
              "      <td>98.66</td>\n",
              "      <td>1.33</td>\n",
              "    </tr>\n",
              "  </tbody>\n",
              "</table>\n",
              "</div>"
            ],
            "text/plain": [
              "             State/UTs  Total Cases  ...  Discharge Ratio (%)  Death Ratio (%)\n",
              "0  Andaman and Nicobar         7572  ...                98.22             1.70\n",
              "1       Andhra Pradesh      2022064  ...                98.59             0.69\n",
              "2    Arunachal Pradesh        53408  ...                98.31             0.50\n",
              "3                Assam       592616  ...                97.95             0.96\n",
              "4                Bihar       725759  ...                98.66             1.33\n",
              "\n",
              "[5 rows x 8 columns]"
            ]
          },
          "metadata": {},
          "execution_count": 6
        }
      ]
    },
    {
      "cell_type": "code",
      "metadata": {
        "colab": {
          "base_uri": "https://localhost:8080/",
          "height": 203
        },
        "id": "oV5YHtN0Ycux",
        "outputId": "2017309b-bde1-43bf-dc6b-e377f8076808"
      },
      "source": [
        "data.tail()"
      ],
      "execution_count": 7,
      "outputs": [
        {
          "output_type": "execute_result",
          "data": {
            "text/html": [
              "<div>\n",
              "<style scoped>\n",
              "    .dataframe tbody tr th:only-of-type {\n",
              "        vertical-align: middle;\n",
              "    }\n",
              "\n",
              "    .dataframe tbody tr th {\n",
              "        vertical-align: top;\n",
              "    }\n",
              "\n",
              "    .dataframe thead th {\n",
              "        text-align: right;\n",
              "    }\n",
              "</style>\n",
              "<table border=\"1\" class=\"dataframe\">\n",
              "  <thead>\n",
              "    <tr style=\"text-align: right;\">\n",
              "      <th></th>\n",
              "      <th>State/UTs</th>\n",
              "      <th>Total Cases</th>\n",
              "      <th>Active</th>\n",
              "      <th>Discharged</th>\n",
              "      <th>Deaths</th>\n",
              "      <th>Active Ratio (%)</th>\n",
              "      <th>Discharge Ratio (%)</th>\n",
              "      <th>Death Ratio (%)</th>\n",
              "    </tr>\n",
              "  </thead>\n",
              "  <tbody>\n",
              "    <tr>\n",
              "      <th>31</th>\n",
              "      <td>Telengana</td>\n",
              "      <td>659844</td>\n",
              "      <td>5505</td>\n",
              "      <td>650453</td>\n",
              "      <td>3886</td>\n",
              "      <td>0.83</td>\n",
              "      <td>98.58</td>\n",
              "      <td>0.59</td>\n",
              "    </tr>\n",
              "    <tr>\n",
              "      <th>32</th>\n",
              "      <td>Tripura</td>\n",
              "      <td>83360</td>\n",
              "      <td>691</td>\n",
              "      <td>81866</td>\n",
              "      <td>803</td>\n",
              "      <td>0.83</td>\n",
              "      <td>98.21</td>\n",
              "      <td>0.96</td>\n",
              "    </tr>\n",
              "    <tr>\n",
              "      <th>33</th>\n",
              "      <td>Uttar Pradesh</td>\n",
              "      <td>1709457</td>\n",
              "      <td>227</td>\n",
              "      <td>1686369</td>\n",
              "      <td>22861</td>\n",
              "      <td>0.01</td>\n",
              "      <td>98.65</td>\n",
              "      <td>1.34</td>\n",
              "    </tr>\n",
              "    <tr>\n",
              "      <th>34</th>\n",
              "      <td>Uttarakhand</td>\n",
              "      <td>343125</td>\n",
              "      <td>379</td>\n",
              "      <td>335358</td>\n",
              "      <td>7388</td>\n",
              "      <td>0.11</td>\n",
              "      <td>97.74</td>\n",
              "      <td>2.15</td>\n",
              "    </tr>\n",
              "    <tr>\n",
              "      <th>35</th>\n",
              "      <td>West Bengal</td>\n",
              "      <td>1552576</td>\n",
              "      <td>8480</td>\n",
              "      <td>1525581</td>\n",
              "      <td>18515</td>\n",
              "      <td>0.55</td>\n",
              "      <td>98.26</td>\n",
              "      <td>1.19</td>\n",
              "    </tr>\n",
              "  </tbody>\n",
              "</table>\n",
              "</div>"
            ],
            "text/plain": [
              "        State/UTs  Total Cases  ...  Discharge Ratio (%)  Death Ratio (%)\n",
              "31      Telengana       659844  ...                98.58             0.59\n",
              "32        Tripura        83360  ...                98.21             0.96\n",
              "33  Uttar Pradesh      1709457  ...                98.65             1.34\n",
              "34    Uttarakhand       343125  ...                97.74             2.15\n",
              "35    West Bengal      1552576  ...                98.26             1.19\n",
              "\n",
              "[5 rows x 8 columns]"
            ]
          },
          "metadata": {},
          "execution_count": 7
        }
      ]
    },
    {
      "cell_type": "code",
      "metadata": {
        "colab": {
          "base_uri": "https://localhost:8080/"
        },
        "id": "0_bM-RaTZvDg",
        "outputId": "4c56fa04-27e0-46c6-ac6f-53ac62839919"
      },
      "source": [
        "data.info()"
      ],
      "execution_count": 13,
      "outputs": [
        {
          "output_type": "stream",
          "name": "stdout",
          "text": [
            "<class 'pandas.core.frame.DataFrame'>\n",
            "RangeIndex: 36 entries, 0 to 35\n",
            "Data columns (total 8 columns):\n",
            " #   Column               Non-Null Count  Dtype  \n",
            "---  ------               --------------  -----  \n",
            " 0   State/UTs            36 non-null     object \n",
            " 1   Total Cases          36 non-null     int64  \n",
            " 2   Active               36 non-null     int64  \n",
            " 3   Discharged           36 non-null     int64  \n",
            " 4   Deaths               36 non-null     int64  \n",
            " 5   Active Ratio (%)     36 non-null     float64\n",
            " 6   Discharge Ratio (%)  36 non-null     float64\n",
            " 7   Death Ratio (%)      36 non-null     float64\n",
            "dtypes: float64(3), int64(4), object(1)\n",
            "memory usage: 2.4+ KB\n"
          ]
        }
      ]
    },
    {
      "cell_type": "markdown",
      "metadata": {
        "id": "5y130ZzhaU3h"
      },
      "source": [
        "Features, values and their data types present in a Data frame can be fount with the method .info() . It is found that all cells are non empty."
      ]
    },
    {
      "cell_type": "code",
      "metadata": {
        "colab": {
          "base_uri": "https://localhost:8080/"
        },
        "id": "c9S2Iv05aVwl",
        "outputId": "1bb38c9f-5702-4bc3-e407-26c72f1bee44"
      },
      "source": [
        "data.describe"
      ],
      "execution_count": 14,
      "outputs": [
        {
          "output_type": "execute_result",
          "data": {
            "text/plain": [
              "<bound method NDFrame.describe of                                    State/UTs  ...  Death Ratio (%)\n",
              "0                        Andaman and Nicobar  ...             1.70\n",
              "1                             Andhra Pradesh  ...             0.69\n",
              "2                          Arunachal Pradesh  ...             0.50\n",
              "3                                      Assam  ...             0.96\n",
              "4                                      Bihar  ...             1.33\n",
              "5                                 Chandigarh  ...             1.25\n",
              "6                               Chhattisgarh  ...             1.35\n",
              "7   Dadra and Nagar Haveli and Daman and Diu  ...             0.04\n",
              "8                                      Delhi  ...             1.74\n",
              "9                                        Goa  ...             1.84\n",
              "10                                   Gujarat  ...             1.22\n",
              "11                                   Haryana  ...             1.26\n",
              "12                          Himachal Pradesh  ...             1.68\n",
              "13                         Jammu and Kashmir  ...             1.35\n",
              "14                                 Jharkhand  ...             1.48\n",
              "15                                 Karnataka  ...             1.27\n",
              "16                                    Kerala  ...             0.51\n",
              "17                                    Ladakh  ...             1.01\n",
              "18                               Lakshadweep  ...             0.49\n",
              "19                            Madhya Pradesh  ...             1.33\n",
              "20                               Maharashtra  ...             2.12\n",
              "21                                   Manipur  ...             1.56\n",
              "22                                 Meghalaya  ...             1.72\n",
              "23                                   Mizoram  ...             0.34\n",
              "24                                  Nagaland  ...             2.08\n",
              "25                                    Odisha  ...             0.80\n",
              "26                                Puducherry  ...             1.46\n",
              "27                                    Punjab  ...             2.74\n",
              "28                                 Rajasthan  ...             0.94\n",
              "29                                    Sikkim  ...             1.24\n",
              "30                                Tamil Nadu  ...             1.34\n",
              "31                                 Telengana  ...             0.59\n",
              "32                                   Tripura  ...             0.96\n",
              "33                             Uttar Pradesh  ...             1.34\n",
              "34                               Uttarakhand  ...             2.15\n",
              "35                               West Bengal  ...             1.19\n",
              "\n",
              "[36 rows x 8 columns]>"
            ]
          },
          "metadata": {},
          "execution_count": 14
        }
      ]
    },
    {
      "cell_type": "markdown",
      "metadata": {
        "id": "GPbV7hOBadXs"
      },
      "source": [
        "describe() method gives some information about dataset\n",
        "in this dataset tells states and its death ratio"
      ]
    },
    {
      "cell_type": "code",
      "metadata": {
        "colab": {
          "base_uri": "https://localhost:8080/"
        },
        "id": "qS9bvf2Qawj4",
        "outputId": "601a95c1-aa8d-41c6-9683-ddd4b39b8276"
      },
      "source": [
        "data.isnull().sum()"
      ],
      "execution_count": 15,
      "outputs": [
        {
          "output_type": "execute_result",
          "data": {
            "text/plain": [
              "State/UTs              0\n",
              "Total Cases            0\n",
              "Active                 0\n",
              "Discharged             0\n",
              "Deaths                 0\n",
              "Active Ratio (%)       0\n",
              "Discharge Ratio (%)    0\n",
              "Death Ratio (%)        0\n",
              "dtype: int64"
            ]
          },
          "metadata": {},
          "execution_count": 15
        }
      ]
    },
    {
      "cell_type": "markdown",
      "metadata": {
        "id": "XvpRaGkja5kF"
      },
      "source": [
        "From above, it is known that the features has no null values"
      ]
    },
    {
      "cell_type": "code",
      "metadata": {
        "colab": {
          "base_uri": "https://localhost:8080/"
        },
        "id": "Ml4AYuQna_hm",
        "outputId": "75e5e440-630e-4e71-a795-59b6ab1b4b20"
      },
      "source": [
        "data.value_counts"
      ],
      "execution_count": 16,
      "outputs": [
        {
          "output_type": "execute_result",
          "data": {
            "text/plain": [
              "<bound method DataFrame.value_counts of                                    State/UTs  ...  Death Ratio (%)\n",
              "0                        Andaman and Nicobar  ...             1.70\n",
              "1                             Andhra Pradesh  ...             0.69\n",
              "2                          Arunachal Pradesh  ...             0.50\n",
              "3                                      Assam  ...             0.96\n",
              "4                                      Bihar  ...             1.33\n",
              "5                                 Chandigarh  ...             1.25\n",
              "6                               Chhattisgarh  ...             1.35\n",
              "7   Dadra and Nagar Haveli and Daman and Diu  ...             0.04\n",
              "8                                      Delhi  ...             1.74\n",
              "9                                        Goa  ...             1.84\n",
              "10                                   Gujarat  ...             1.22\n",
              "11                                   Haryana  ...             1.26\n",
              "12                          Himachal Pradesh  ...             1.68\n",
              "13                         Jammu and Kashmir  ...             1.35\n",
              "14                                 Jharkhand  ...             1.48\n",
              "15                                 Karnataka  ...             1.27\n",
              "16                                    Kerala  ...             0.51\n",
              "17                                    Ladakh  ...             1.01\n",
              "18                               Lakshadweep  ...             0.49\n",
              "19                            Madhya Pradesh  ...             1.33\n",
              "20                               Maharashtra  ...             2.12\n",
              "21                                   Manipur  ...             1.56\n",
              "22                                 Meghalaya  ...             1.72\n",
              "23                                   Mizoram  ...             0.34\n",
              "24                                  Nagaland  ...             2.08\n",
              "25                                    Odisha  ...             0.80\n",
              "26                                Puducherry  ...             1.46\n",
              "27                                    Punjab  ...             2.74\n",
              "28                                 Rajasthan  ...             0.94\n",
              "29                                    Sikkim  ...             1.24\n",
              "30                                Tamil Nadu  ...             1.34\n",
              "31                                 Telengana  ...             0.59\n",
              "32                                   Tripura  ...             0.96\n",
              "33                             Uttar Pradesh  ...             1.34\n",
              "34                               Uttarakhand  ...             2.15\n",
              "35                               West Bengal  ...             1.19\n",
              "\n",
              "[36 rows x 8 columns]>"
            ]
          },
          "metadata": {},
          "execution_count": 16
        }
      ]
    },
    {
      "cell_type": "markdown",
      "metadata": {
        "id": "4KL9ecQfbK3Y"
      },
      "source": [
        "From the above, the dataset is said to be not a Balanced DataSet."
      ]
    },
    {
      "cell_type": "markdown",
      "metadata": {
        "id": "sP4lTlN3bOVu"
      },
      "source": [
        "# **Data visualization:**\n",
        "\n",
        "Data visualization is the act of taking information (data) and placing it into a visual context , such as a map or graph. Data visualizations make big and small data easier for the human brain to understand, and visualization also makes it easier to detect patterns, trends, and outliers in groups of data."
      ]
    },
    {
      "cell_type": "markdown",
      "metadata": {
        "id": "aI0Ulrm6bVdJ"
      },
      "source": [
        "\n",
        "Data visualization is mostly carried out by using the libraries matplotlib and seaborn."
      ]
    },
    {
      "cell_type": "markdown",
      "metadata": {
        "id": "fV2tSYD3h5Zp"
      },
      "source": [
        "**DEATHS IN INDIA**"
      ]
    },
    {
      "cell_type": "code",
      "metadata": {
        "colab": {
          "base_uri": "https://localhost:8080/",
          "height": 404
        },
        "id": "jRADr_1obkR7",
        "outputId": "3b1d754d-9961-4809-e320-d55c9ecc8b3f"
      },
      "source": [
        "plt.figure(figsize=(14,6))\n",
        "plt.title(\"Deaths due to covid-19 in india\")\n",
        "sns.barplot(x=data['Deaths'],y=data['State/UTs'])\n",
        "plt.ylabel('states')\n",
        "plt.xlabel('deaths');"
      ],
      "execution_count": 46,
      "outputs": [
        {
          "output_type": "display_data",
          "data": {
            "image/png": "[encoded data removed]",
            "text/plain": [
              "<Figure size 1008x432 with 1 Axes>"
            ]
          },
          "metadata": {
            "needs_background": "light"
          }
        }
      ]
    },
    {
      "cell_type": "markdown",
      "metadata": {
        "id": "Mcp18ubBhihB"
      },
      "source": [
        "It is found that most of the deaths in maharashtra"
      ]
    },
    {
      "cell_type": "code",
      "metadata": {
        "colab": {
          "base_uri": "https://localhost:8080/",
          "height": 509
        },
        "id": "0JqtLSHulV00",
        "outputId": "8b8ee2f1-e745-4970-9264-8212362bc1ad"
      },
      "source": [
        "sns.lineplot(x=data['Discharge Ratio (%)'],y=data['Total Cases'])"
      ],
      "execution_count": 60,
      "outputs": [
        {
          "output_type": "execute_result",
          "data": {
            "text/plain": [
              "<matplotlib.axes._subplots.AxesSubplot at 0x7f38f70c7d90>"
            ]
          },
          "metadata": {},
          "execution_count": 60
        },
        {
          "output_type": "display_data",
          "data": {
            "image/png": "[encoded data removed]",
            "text/plain": [
              "<Figure size 1440x576 with 1 Axes>"
            ]
          },
          "metadata": {}
        }
      ]
    },
    {
      "cell_type": "markdown",
      "metadata": {
        "id": "97xhnUTBmlPW"
      },
      "source": [
        "cases increases discharge ratio also increases"
      ]
    },
    {
      "cell_type": "markdown",
      "metadata": {
        "id": "3Bdqn9-um06U"
      },
      "source": [
        "# conclusion\n",
        "\n",
        "\n",
        "*    maharashtra has more number of covid cases\n",
        "*    dischrage rate is almost similar in all states in india\n",
        "*    \n",
        "\n",
        "\n",
        "\n",
        "\n",
        "\n",
        "\n"
      ]
    }
  ]
}